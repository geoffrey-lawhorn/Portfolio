{
  "nbformat": 4,
  "nbformat_minor": 0,
  "metadata": {
    "colab": {
      "provenance": [],
      "authorship_tag": "ABX9TyNjJXDXapj7YJny0KM0zK4y",
      "include_colab_link": true
    },
    "kernelspec": {
      "name": "python3",
      "display_name": "Python 3"
    },
    "language_info": {
      "name": "python"
    }
  },
  "cells": [
    {
      "cell_type": "markdown",
      "metadata": {
        "id": "view-in-github",
        "colab_type": "text"
      },
      "source": [
        "<a href=\"https://colab.research.google.com/github/geoffrey-lawhorn/Portfolio/blob/main/Python_Web_Scrapping.ipynb\" target=\"_parent\"><img src=\"https://colab.research.google.com/assets/colab-badge.svg\" alt=\"Open In Colab\"/></a>"
      ]
    },
    {
      "cell_type": "markdown",
      "source": [
        "# Web Scraping Financial Data\n",
        "\n",
        "### **Reasons for Web Scraping**\n",
        "*   Market Monitoring\n",
        "*   Competitive Analysis\n",
        "*   Economic Indicators\n",
        "\n",
        "### **Use Cases of Web Scraping**\n",
        "*   Algorithmic Trading Strategies\n",
        "*   Real Estate and Property Market Insights\n",
        "*   Supply Chain Finance"
      ],
      "metadata": {
        "id": "JQlr9gmGbYEl"
      }
    },
    {
      "cell_type": "code",
      "execution_count": 2,
      "metadata": {
        "id": "nhIvrDn4bIo8"
      },
      "outputs": [],
      "source": [
        "import requests\n",
        "from bs4 import BeautifulSoup"
      ]
    },
    {
      "cell_type": "code",
      "source": [
        "# BASE_URL = \"https://www.google.com/finance\"\n",
        "API_KEY = \"6579b6ba7b9fee22fdeea88e\"\n",
        "BASE_URL = \"http://api.scrapingdog.com/google/?api_key=\" + API_KEY + \"&query=https://www.google.com/finance\"\n",
        "INDEX = \"NASDAQ\"\n",
        "SYMBOL = \"META\"\n",
        "LANGUAGE = \"en\"\n",
        "TARGET_URL = f\"{BASE_URL}/quote/{SYMBOL}:{INDEX}?hl={LANGUAGE}\"\n",
        "print(TARGET_URL)"
      ],
      "metadata": {
        "colab": {
          "base_uri": "https://localhost:8080/"
        },
        "id": "T3SnDNRSdAFN",
        "outputId": "c47068ca-2757-40ec-d3b0-97530ae57ae1"
      },
      "execution_count": 7,
      "outputs": [
        {
          "output_type": "stream",
          "name": "stdout",
          "text": [
            "http://api.scrapingdog.com/google/?api_key=6579b6ba7b9fee22fdeea88e&query=https://www.google.com/finance/quote/META:NASDAQ?hl=en\n"
          ]
        }
      ]
    },
    {
      "cell_type": "code",
      "source": [
        "page = requests.get(TARGET_URL)\n",
        "\n",
        "soup = BeautifulSoup(page.content, \"html.parser\")"
      ],
      "metadata": {
        "id": "4-AXIXv0dDGW"
      },
      "execution_count": 4,
      "outputs": []
    },
    {
      "cell_type": "code",
      "source": [
        "items = soup.find_all(\"div\", {\"class\": \"gyFHrc\"})\n",
        "stock_description = {}\n",
        "\n",
        "for item in items:\n",
        "  item_description = item.find(\"div\", {\"class\": \"mfs7Fc\"}).text\n",
        "  item_value = item.find(\"div\", {\"class\": \"P6K39c\"}).text\n",
        "  stock_description[item_description] = item_value\n",
        "\n",
        "print(stock_description)"
      ],
      "metadata": {
        "colab": {
          "base_uri": "https://localhost:8080/"
        },
        "id": "W_10BrVRdlW0",
        "outputId": "96a9d939-8181-4b67-9f39-4eaa3af98cd8"
      },
      "execution_count": 6,
      "outputs": [
        {
          "output_type": "stream",
          "name": "stdout",
          "text": [
            "{'Previous close': '$334.22', 'Year range': '$112.46 - $342.92', 'Market cap': '858.90B USD', 'Avg Volume': '16.08M', 'P/E ratio': '30.11', 'Dividend yield': '-', 'Primary exchange': 'NASDAQ', 'CEO': 'Mark Zuckerberg', 'Founded': 'Feb 2004', 'Website': 'meta.com', 'Employees': '66,185'}\n"
          ]
        }
      ]
    }
  ]
}